{
 "cells": [
  {
   "cell_type": "markdown",
   "id": "controlled-hotel",
   "metadata": {},
   "source": [
    "## Optimal building level\n",
    "\n",
    "Through this notebook we will look for the optimal building level according to our assumptions.\n",
    "\n",
    "It may be required to get some information as: \n",
    "\n",
    "- Cumulative building levels $Bl$ : Sum of levels of each building in the game\n",
    "- Retail price $Rp$ : price at which the product you're about to produce will be sold at \n",
    "- Total Inputs price $In$ : sum of the units*prices required to produce the product\n",
    "- Factory wages $Fw$ : The cost of running the factory per hour, per level (No admin overhead assumed yet). It used to be given by the game, today we have to calculate it by ourselves as $Fw = Pw * Pu$ (each of the variables are described next)\n",
    "- Produced units $Pu$ : Amount of units produced in one hour in a lvl1 building. \n",
    "- Product wages $Pw$ : Even though the actual model requires the Factory Wages, we can skip the manual calculation, so we express the previous formula $Fw = Pw * Pu$ in our code, requiring the variable $Pw$\n",
    "- Productivity bonus $Pb$ : '%' of extra production (it could have been gotten by stars, parks and recreation buildings, or robots) \n",
    "- Executives skill bonus $Sk$ : Cumulative skill of the executives $Sk = COO + \\frac{CMO + CFO + CTO}{4}$"
   ]
  },
  {
   "cell_type": "markdown",
   "id": "thermal-coupon",
   "metadata": {},
   "source": [
    "The expected profit $P$ is given by the function: \n",
    "\n",
    "$$ P = \\big{[} Rp - In - \\big{(}\\frac{Bl (1-Sk)}{170}+1 \\big{)} \\frac{Pw}{(1 + Pb)} \\big{]} Bl $$\n",
    "\n",
    "$$ P = \\big{[} Bl Rp - Bl In - Bl \\big{(}\\frac{Bl (1-Sk)}{170}+1 \\big{)} \\frac{Pw}{(1 + Pb)} \\big{]} $$\n",
    "\n",
    "$$ P = \\big{[} Bl Rp - Bl In - \\big{(}\\frac{Bl^2 (1-Sk)}{170}+Bl \\big{)} \\frac{Pw}{(1 + Pb)} \\big{]} $$\n",
    "\n",
    "Note:\n",
    "\n",
    "The daily profit could be gotten by multiplying the profit times $24* Pu$\n",
    "\n",
    "Therefore; The daily Profit stands as:\n",
    "\n",
    "$$ P_d = \\big{[} Rp - In - \\big{(}\\frac{Bl (1-Sk)}{170}+1 \\big{)} \\frac{Pw}{(1 + Pb)} \\big{]} Bl* 24* Pu $$\n"
   ]
  },
  {
   "cell_type": "markdown",
   "id": "controversial-number",
   "metadata": {},
   "source": [
    "The 'optimal' building level is given when:\n",
    "\n",
    "$$ \\frac{\\partial P}{\\partial Bl} = 0$$\n",
    "\n",
    "$$ \\frac{\\partial P}{\\partial Bl} = \\big{[} Rp - In - \\big{(}\\frac{2 Bl (1-Sk)}{170}+1 \\big{)} \\frac{Pw}{(1 + Pb)} \\big{]} = 0 $$\n",
    "\n",
    "Solving for $Bl$: \n",
    "\n",
    "$$ Bl^* = \\big{(} (Rp - In) \\frac{(1+Pb)}{Pw} - 1 \\big{)} \\frac{170}{2 (1-Sk)} $$"
   ]
  },
  {
   "cell_type": "markdown",
   "id": "norman-convention",
   "metadata": {},
   "source": [
    "### Building costs"
   ]
  },
  {
   "cell_type": "markdown",
   "id": "registered-viewer",
   "metadata": {},
   "source": [
    "Additional to the Optimal profit, there is another variable; the cost of upgrading at a certain building level.\n",
    "\n",
    "The costs for upgrading a building ($Cb$) are given the following way:\n",
    "  \n",
    "if $C$ is the cost of upgrading a lvl 1 building, then every upgrade can be expressed as:\n",
    "\n",
    "- Lvl 1: C\n",
    "- Lvl 2: C\n",
    "- Lvl 3: 2C\n",
    "- Lvl 4: 3C\n",
    "- Lvl 5: 4C\n",
    "- ... \n",
    "\n",
    "Then the building cost of 1 slot until level \"$Lvl$\" could be expressed as $1+\\frac{1+(Lvl-1)}{2}(Lvl-1))$\n",
    "\n",
    "Since we pretend to build the total amount of buildings evenly (more efficient), then the total Building Costs $Tc$ can be aproximated as a function of the total building levels $Bl$ (as defined previously), the building slots $Sl$, and the unitary costs of upgrading $C$ (since this formula requires discrete numbers it is only exact when the ratio between $Bl$ and $Sl$ is an integer, otherwise it is just an approximation):\n",
    "\n",
    "$Tc = \\big{[}1+\\frac{1+(\\frac{Bl}{Sl}-1)}{2}(\\frac{Bl}{Sl}-1)) \\big{]} C Sl $\n"
   ]
  },
  {
   "cell_type": "markdown",
   "id": "obvious-correction",
   "metadata": {},
   "source": [
    "### Numerical approximations\n",
    "\n",
    "For this exercise we are assuming the production of rocket engines. and therefore comparing between the use of robots or the absense of them. \n",
    "\n",
    "- $Pu = 0.29$\n",
    "- $Pw = 2050$\n",
    "- $Rp = 10900$\n",
    "- $In = 9950 - 2650 = 7300$\n",
    "- $Pb = 0.04$ or $0.07$ with robots\n",
    "- $Sk = 0.30$\n",
    "- $Bl = ?$ \n",
    "\n",
    "So we are playing with the building level as the main variable "
   ]
  },
  {
   "cell_type": "code",
   "execution_count": 25,
   "id": "chicken-cabin",
   "metadata": {},
   "outputs": [
    {
     "name": "stdout",
     "output_type": "stream",
     "text": [
      "Once deleted, variables cannot be recovered. Proceed (y/[n])? y\n"
     ]
    }
   ],
   "source": [
    "reset\n"
   ]
  },
  {
   "cell_type": "code",
   "execution_count": 1,
   "id": "ahead-institution",
   "metadata": {},
   "outputs": [],
   "source": [
    "# %matplotlib ipympl\n",
    "\n",
    "import matplotlib.pyplot as plt\n",
    "import numpy as np\n",
    "import scipy.optimize as opt\n",
    "\n",
    "from mpl_interactions import ipyplot as iplt\n",
    "\n",
    "def P(Bl, Rp, In, Pu, Pb, Pw, Sk):\n",
    "    # Profit\n",
    "    W = (Bl*(1-Sk)/170 +1)*Pw/(1+Pb)\n",
    "    P = (Rp - In - W) * Bl\n",
    "    return  P * 24 * Pu# To find daily profit\n",
    "\n",
    "def An_Bl(Rp, In, Pu, Pb, Pw, Sk):\n",
    "    # Analytical estimation for the building level\n",
    "    return ((Rp - In)*(1+Pb)/Pw -1)*170/2/(1-Sk)\n",
    "\n",
    "def Num_Bl(Rp, In, Pu, Pb, Pw, Sk):\n",
    "    # Numerical estimation for the building level \n",
    "    def neg_p(*args):\n",
    "        return -P(*args)\n",
    "    return opt.minimize(neg_p,x0=80,args=(Rp, In, Pu, Pb, Pw, Sk)).x[0] # Numerical Optimization\n",
    "\n",
    "def P_star(Rp, In, Pu, Pb, Pw, Sk):\n",
    "    # Optimal Profit\n",
    "    # P(Bl(Rp, In, Pu, Pb, Fw, Sk),Rp, In, Pu, Pb, Fw, Sk) equivalent:\n",
    "#     return (P(Num_Bl(Rp, In, Pu, Pb, Pw, Sk), Rp, In, Pu, Pb, Pw, Sk))\n",
    "    return (P(An_Bl(Rp, In, Pu, Pb, Pw, Sk), Rp, In, Pu, Pb, Pw, Sk))\n",
    "\n",
    "\n",
    "def BuildingCost(Bl, Sl, C):\n",
    "    #Building costs\n",
    "    sing = lambda x: 1+((1+(x-1))/2*(x-1)) #For one simple building at lvl; x\n",
    "    return sing(Bl/Sl)*C*Sl #For many buildings at lvl; Bl/Sl\n",
    "\n",
    "def OptimalBuildingCosts(Bl_star, *args):\n",
    "    return BuildingCost(Bl_star, *args)"
   ]
  },
  {
   "cell_type": "code",
   "execution_count": 27,
   "id": "popular-success",
   "metadata": {},
   "outputs": [
    {
     "name": "stdout",
     "output_type": "stream",
     "text": [
      "Optimal Building Level: 89.49939560071662\n",
      "Profit at optimal building level: 468103.7504754756\n",
      "Building costs of optimal building level: 29014916.08976866\n"
     ]
    }
   ],
   "source": [
    "# Optimal solution with no robots: \n",
    "\n",
    "Pu = 0.3\n",
    "Pb = 0.04 # No robots\n",
    "Pw = 2050\n",
    "Rp = 10600\n",
    "In = 9954-2050-728\n",
    "Sk = 0.3\n",
    "\n",
    "slots = 13\n",
    "UnitaryBuildingCost = 105000\n",
    "\n",
    "print(\"Optimal Building Level: {}\".format(Num_Bl(Rp, In, Pu, Pb, Pw, Sk)))\n",
    "print(\"Profit at optimal building level: {}\".format(P_star(Rp, In, Pu, Pb, Pw, Sk)))\n",
    "print(\"Building costs of optimal building level: {}\".format(OptimalBuildingCosts(An_Bl(Rp, In, Pu, Pb, Pw, Sk), slots, UnitaryBuildingCost)))"
   ]
  },
  {
   "cell_type": "code",
   "execution_count": 45,
   "id": "reflected-europe",
   "metadata": {},
   "outputs": [
    {
     "data": {
      "text/plain": [
       "89.49939560071662"
      ]
     },
     "execution_count": 45,
     "metadata": {},
     "output_type": "execute_result"
    }
   ],
   "source": [
    "# Numerical estimation of the Building level\n",
    "Num_Bl(Rp, In, Pu, Pb, Pw, Sk)"
   ]
  },
  {
   "cell_type": "code",
   "execution_count": 46,
   "id": "removable-meaning",
   "metadata": {},
   "outputs": [
    {
     "data": {
      "text/plain": [
       "89.49937282229966"
      ]
     },
     "execution_count": 46,
     "metadata": {},
     "output_type": "execute_result"
    }
   ],
   "source": [
    "# Analytical estimation of the Building level\n",
    "An_Bl(Rp, In, Pu, Pb, Pw, Sk)"
   ]
  },
  {
   "cell_type": "code",
   "execution_count": 47,
   "id": "animal-surprise",
   "metadata": {},
   "outputs": [
    {
     "name": "stdout",
     "output_type": "stream",
     "text": [
      "Optimal Building Level: 95.58383275261325\n",
      "Profit at optimal building level: 518944.10210322717\n",
      "Building costs of optimal building level: 33243320.079962872\n"
     ]
    }
   ],
   "source": [
    "# Same scenario, but with robots\n",
    "\n",
    "Pb = 0.07 # Robots\n",
    "\n",
    "print(\"Optimal Building Level: {}\".format(An_Bl(Rp, In, Pu, Pb, Pw, Sk)))\n",
    "print(\"Profit at optimal building level: {}\".format(P_star(Rp, In, Pu, Pb, Pw, Sk)))\n",
    "print(\"Building costs of optimal building level: {}\".format(OptimalBuildingCosts(An_Bl(Rp, In, Pu, Pb, Pw, Sk), slots, UnitaryBuildingCost)))"
   ]
  },
  {
   "cell_type": "code",
   "execution_count": 48,
   "id": "great-insulin",
   "metadata": {},
   "outputs": [
    {
     "data": {
      "image/png": "[encoded data removed]",
      "text/plain": [
       "<Figure size 432x288 with 1 Axes>"
      ]
     },
     "metadata": {
      "needs_background": "light"
     },
     "output_type": "display_data"
    }
   ],
   "source": [
    "Bls =np.linspace(0,120,120)\n",
    "fig, ax = plt.subplots()\n",
    "# controls = iplt.plot(Bls, P , Rp=Rp, In=In, Pu=Pu, Pb=(0,0.1), Fw=Fw, Sk=(0,0.6))\n",
    "plt.plot(P(Bls, Rp, In, Pu, 0.04, Pw, Sk), label = 'No Robots')\n",
    "plt.plot(P(Bls, Rp, In, Pu, 0.07, Pw, Sk), label = 'Robots')\n",
    "plt.title('Optimal Building level')\n",
    "plt.xlabel('Level')\n",
    "plt.ylabel('Daily Profit')\n",
    "plt.legend()\n",
    "plt.show();"
   ]
  },
  {
   "cell_type": "markdown",
   "id": "white-novelty",
   "metadata": {},
   "source": [
    "### Multi-Step process\n",
    "\n",
    "For the multi-step scenario the same formulas are used with a slight modification. This modification though, requires a lot of attention for the manual entry of the data."
   ]
  },
  {
   "cell_type": "markdown",
   "id": "mexican-fashion",
   "metadata": {},
   "source": [
    "The process starts in a similar way as the previous case scenario. This time, for simplicity, we are representing the Profit as 3 different parts: \n",
    "\n",
    "- Retail price $Rp$ (at which we are selling our product)\n",
    "- Total Input Resources $In_{T}$ (As the not produced resources for any of the resources produced in the full process)\n",
    "- Total Wages $W_{T}$ (As the total amount paid in wages in the full process) \n",
    "\n",
    "Next we have the Building level $Bl$, but this time we will need to add an additional multiplier parameter $$ in representation of the building units required to produced a single unit of the final product."
   ]
  },
  {
   "cell_type": "markdown",
   "id": "professional-spoke",
   "metadata": {},
   "source": [
    "So the profit may be defined as:\n",
    "\n",
    "$$ P = [Rp - In_T - W_T] Bl$$\n",
    "\n",
    "Where the Total Wages are defined as: \n",
    "\n",
    "$$W_T = \\sum_{i=1}^{n} R_i W_i =  \\big{(} \\frac{ Bl (1-Sk)}{170}-1 \\big{)} \\frac{1}{(1+Pb)} \\sum_{i=1}^{n} R_i Pw_i $$\n",
    "\n",
    "where $R_i$ is the requiered amount of each resource for the end product.(if it's the end product, $R_i = 1$)\n",
    "\n",
    "Lets say $\\sum_{i=1}^{n} R_i Pw_i$ is equivalent to the 'Total product wages', and let it be equal to $Pw_T$\n",
    "\n",
    "Then we can express $W_T$ as: \n",
    "\n",
    "$$W_T = \\big{(} \\frac{ Bl (1-Sk)}{170}-1 \\big{)} \\frac{Pw_T }{(1+Pb)} $$\n",
    "\n",
    "Evaluating the Total wages expression into our profit\n",
    "\n",
    "$$ P = [Rp - In_T - \\big{(} \\frac{ Bl (1-Sk)}{170}-1 \\big{)} \\frac{Pw_T }{(1+Pb)}] Bl$$\n",
    "\n",
    "$$ P = \\big{[} Bl Rp - Bl In - Bl \\big{(}\\frac{ Bl (1-Sk)}{170}+1 \\big{)} \\frac{Pw}{(1 + Pb)} \\big{]} $$\n",
    "\n",
    "$$ P = \\big{[} Bl Rp - Bl In - \\big{(}\\frac{ Bl^2 (1-Sk)}{170}+ Bl \\big{)} \\frac{Pw}{(1 + Pb)} \\big{]} $$\n",
    "\n",
    "Note: In order to get the daily profit we must multiply the Profit by $24 * Pu * \\alpha(X)$ where $Pu$ is the amount of units produced of our finished product and the alpha of the end product $X$. (For this calculations, we will define a variable $\\alpha$)\n",
    "\n",
    "$$ P_d = [Rp - In_T - \\big{(} \\frac{ Bl (1-Sk)}{170}-1 \\big{)} \\frac{Pw_T }{(1+Pb)}] Bl * Pu * 24 * \\alpha$$\n"
   ]
  },
  {
   "cell_type": "markdown",
   "id": "armed-conditions",
   "metadata": {},
   "source": [
    "The 'optimal' building level is given when:\n",
    "\n",
    "$$ \\frac{\\partial P}{\\partial Bl} = 0$$\n",
    "\n",
    "$$ \\frac{\\partial P}{\\partial Bl} = \\big{[} Rp - In - \\big{(}\\frac{2  Bl (1-Sk)}{170}+1 \\big{)} \\frac{Pw}{(1 + Pb)} \\big{]} = 0 $$\n",
    "\n",
    "Solving for $Bl$: \n",
    "\n",
    "$$ Bl^* = \\big{(} (Rp - In) \\frac{(1+Pb)}{Pw} - 1 \\big{)} \\frac{170}{2  (1-Sk)} $$"
   ]
  },
  {
   "cell_type": "markdown",
   "id": "subjective-graduate",
   "metadata": {},
   "source": [
    "This model is the same as the single step solution plus some extra letters. It just adds some intermediate manual steps for the calculation of $In_T$, $Pw_T$, and $\\alpha$ as the proportion of building per resource required."
   ]
  },
  {
   "cell_type": "markdown",
   "id": "domestic-conclusion",
   "metadata": {},
   "source": [
    "### Numerical approximations\n",
    "Lets consider we are building BFRs \n",
    "\n",
    "The input resources for each of the steps are: \n",
    "- BFR: 1 Orbital Booster + 1 Starship\n",
    "- Orbital Booster: 40 fuselage + 16 propellant tanks + 34 Rocket engines\n",
    "- Starship: 2 Cockpit + 10 Heat shield + 4 Attitude controller + 6 propellant tanks + 7 Rocket engines\n",
    "- Rocket engines: 20 Steel + 8 HGEC + 10 Aluminium\n",
    "\n",
    "But, since we are producing some dependencies, we may not consider them into our Total inputs variable.  \n",
    "our total input resources is then stated as:\n",
    "\n",
    "$In_T =$ 1 Orbital Booster + 1 Starship\n",
    "\n",
    "$In_T =$ 1*(40 fuselage + 16 propellant tanks + 34 Rocket engines) + 1*(2 Cockpit + 10 Heat shield + 4 Attitude controller + 6 propellant tanks + 7 Rocket engines)\n",
    "\n",
    "$In_T =$ 1*(40 fuselage + 16 propellant tanks + 34 * (20 Steel + 8 HGEC + 10 Aluminium)) + 1*(2 Cockpit + 10 Heat shield + 4 Attitude controller + 6 propellant tanks + 7 * (20 Steel + 8 HGEC + 10 Aluminium))\n",
    "\n",
    "$In_T \\approx 1*(40*2750 + 16* 9350 + 34*(20*10.7 + 8* 880 + 10*18.8)) + 1*(2*5100 + 10*515 + 4*4780 + 6*9350 + 7*(20*10.7 + 8* 880 + 10*18.8)) \\approx 512628 + 142664 \\approx 655292 $\n",
    "\n",
    "In the same way, our Wages can be defined as the sum of the wages of the individual wages\n",
    "\n",
    "$W_T = W_{HGEC} + W_{RE} = \\big{(} \\frac{ Bl (1-Sk)}{170}-1 \\big{)} \\frac{1}{(1+Pb)} \\big{(} BFR*Pw_{BFR} +OB*Pw_{OB} + Star*Pw_{Star} + RE*Pw_{RE} \\big{)}$\n",
    "\n",
    "So the total Product Wages $Pw_T$ is equal to:\n",
    "\n",
    "$Pw_T = \\sum_{i=1}^{n} Pw_i = BFR*Pw_{BFR} +OB*Pw_{OB} + Star*Pw_{Star} + RE*Pw_{RE} $ \n",
    "\n",
    "$Pw_T = 1*3600 + 1*390 + 1*1950 + (34+7)*2220 = 96960$\n",
    "\n",
    "And we have all the information but the building ratio $\\alpha$\n",
    "For the calculation of this ratio we need to know the amount of buildings required for the production fo a single unit of the end product (RE) "
   ]
  },
  {
   "cell_type": "markdown",
   "id": "medical-question",
   "metadata": {},
   "source": [
    "### $\\alpha $ estimation\n",
    "\n",
    "The procedure for the estimation of alpha is to calculate the amount of buildings required to produce one unit of the end product in one hour. \n",
    "\n",
    "We need to produce:\n",
    "$$ BFR = 1 OB_{BFR} + 1 Star_{BFR} + 34 RE_{OB_{BFR}} + 7 RE_{Star_{BFR}} $$\n",
    "\n",
    "Therefore, our alpha can be calculated as: \n",
    "$$ \\alpha_T = \\frac{1}{Pu_{BFR}} + \\frac{OB}{Pu_{OB}}  + \\frac{Star}{Pu_{Star}} + \\frac{OB * RE}{Pu_{RE}}  + \\frac{Star * RE}{Pu_{RE}}$$ \n",
    "\n",
    "$$ \\alpha_T = \\frac{1}{Pu_{BFR}} + \\frac{1}{Pu_{OB}}  + \\frac{1}{Pu_{Star}} + \\frac{34}{Pu_{RE}}  + \\frac{7}{Pu_{RE}}$$ \n",
    "\n",
    "$$ \\alpha_T \\approx 155.19$$\n",
    "\n",
    "$$ \\alpha_{BFR} = \\frac{1}{Pu_{BFR}} * \\frac{1}{\\alpha_T} \\approx \\frac{4.76}{155.19} \\approx 0.0307$$\n",
    "$$ \\alpha_{OB} = \\frac{OB}{Pu_{OB}} * \\frac{1}{\\alpha_T} \\approx \\frac{0.6666}{155.19} \\approx 0.0043$$\n",
    "$$ \\alpha_{Star} = \\frac{Star}{Pu_{Star}} * \\frac{1}{\\alpha_T} \\approx \\frac{3.333}{155.19} \\approx 0.0215$$\n",
    "$$ \\alpha_{RE} = \\big{(} \\frac{OB * RE}{Pu_{RE}}  + \\frac{Star * RE}{Pu_{RE}} \\big{)}* \\frac{1}{\\alpha_T} \\approx \\frac{121.42}{155.19} + \\frac{25}{155.19}\\approx 0.7824 + 0.1611 \\approx 0.9435$$"
   ]
  },
  {
   "cell_type": "markdown",
   "id": "right-roller",
   "metadata": {},
   "source": [
    "So, most of our efforts should be to produce Rocket engines at the cheapest price possible. \n",
    "\n",
    "Consider that between each step there's a gap in profit, where we buy low quality input resources and we transform them into high quality output resources which are sold more expensive (Let's say we buy q2 $HGEC$, produce q3 $RE$, produce q4 $OB$ and $Star$, and lastly produce q5 $BFR$.\n",
    "\n",
    "The process isn't cheap though. It requires a lot of money in investigation for the high quality products. "
   ]
  },
  {
   "cell_type": "code",
   "execution_count": 2,
   "id": "under-explosion",
   "metadata": {},
   "outputs": [],
   "source": [
    "# %matplotlib ipympl\n",
    "\n",
    "import matplotlib.pyplot as plt\n",
    "import numpy as np\n",
    "import scipy.optimize as opt\n",
    "\n",
    "# from mpl_interactions import ipyplot as iplt\n",
    "\n",
    "def P(Bl, Rp, In, Pu, Pb, Pw, Sk):\n",
    "    # Profit\n",
    "    W = (Bl*(1-Sk)/170 +1)*Pw/(1+Pb)\n",
    "    P = (Rp - In - W) * Bl\n",
    "    return  P * 24 * Pu # To find daily profit\n",
    "\n",
    "def An_Bl(Rp, In, Pu, Pb, Pw, Sk):\n",
    "    # Analytical estimation for the building level\n",
    "    return ((Rp - In)*(1+Pb)/Pw -1)*170/2/(1-Sk)\n",
    "\n",
    "def Num_Bl(Rp, In, Pu, Pb, Pw, Sk):\n",
    "    # Numerical estimation for the building level \n",
    "    def neg_p(*args):\n",
    "        return -P(*args)\n",
    "    return opt.minimize(neg_p,x0=80,args=(Rp, In, Pu, Pb, Pw, Sk)).x[0] # Numerical Optimization\n",
    "\n",
    "def P_star(Rp, In, Pu, Pb, Pw, Sk):\n",
    "    # Optimal Profit\n",
    "    # P(Bl(Rp, In, Pu, Pb, Fw, Sk),Rp, In, Pu, Pb, Fw, Sk) equivalent:\n",
    "#     return (P(Num_Bl(Rp, In, Pu, Pb, Pw, Sk), Rp, In, Pu, Pb, Pw, Sk))\n",
    "    return (P(An_Bl(Rp, In, Pu, Pb, Pw, Sk), Rp, In, Pu, Pb, Pw, Sk))\n",
    "\n",
    "\n",
    "def BuildingCost(Bl, Sl, C):\n",
    "    #Building costs\n",
    "    sing = lambda x: 1+((1+(x-1))/2*(x-1)) #For one simple building at lvl; x\n",
    "    return sing(Bl/Sl)*C*Sl #For many buildings at lvl; Bl/Sl\n",
    "\n",
    "def OptimalBuildingCosts(Bl_star, *args):\n",
    "    return BuildingCost(Bl_star, *args)"
   ]
  },
  {
   "cell_type": "code",
   "execution_count": 7,
   "id": "acting-borough",
   "metadata": {},
   "outputs": [
    {
     "name": "stdout",
     "output_type": "stream",
     "text": [
      "Optimal Building Level: 102.60748271102693\n",
      "Profit at optimal building level: 625367.1029633664\n",
      "Building costs of optimal building level: 38496193.13597304\n"
     ]
    }
   ],
   "source": [
    "# Multi-step Building optimization \n",
    "\n",
    "Rp = 800000 # Of the final product\n",
    "In = 627989\n",
    "Pw = 96960 \n",
    "Pu = 0.0307 * 0.21 # alpha of the end product * Pu of the end product\n",
    "\n",
    "Pb = 0.04 # No robots\n",
    "Sk = 0.3\n",
    "\n",
    "slots = 13\n",
    "UnitaryBuildingCost = 105000\n",
    "\n",
    "print(\"Optimal Building Level: {}\".format(Num_Bl(Rp, In, Pu, Pb, Pw, Sk)))\n",
    "print(\"Profit at optimal building level: {}\".format(P_star(Rp, In, Pu, Pb, Pw, Sk)))\n",
    "print(\"Building costs of optimal building level: {}\".format(OptimalBuildingCosts(An_Bl(Rp, In, Pu, Pb, Pw, Sk), slots, UnitaryBuildingCost)))"
   ]
  },
  {
   "cell_type": "code",
   "execution_count": 8,
   "id": "phantom-baghdad",
   "metadata": {},
   "outputs": [
    {
     "name": "stdout",
     "output_type": "stream",
     "text": [
      "Optimal Building Level: 109.06989169744577\n",
      "Profit at optimal building level: 686811.6470917698\n",
      "Building costs of optimal building level: 43681450.46055252\n"
     ]
    }
   ],
   "source": [
    "Pb = 0.07 # Robots\n",
    "print(\"Optimal Building Level: {}\".format(Num_Bl(Rp, In, Pu, Pb, Pw, Sk)))\n",
    "print(\"Profit at optimal building level: {}\".format(P_star(Rp, In, Pu, Pb, Pw, Sk)))\n",
    "print(\"Building costs of optimal building level: {}\".format(OptimalBuildingCosts(An_Bl(Rp, In, Pu, Pb, Pw, Sk), slots, UnitaryBuildingCost)))"
   ]
  },
  {
   "cell_type": "code",
   "execution_count": 9,
   "id": "alternate-hamburg",
   "metadata": {},
   "outputs": [
    {
     "data": {
      "image/png": "[encoded data removed]",
      "text/plain": [
       "<Figure size 432x288 with 1 Axes>"
      ]
     },
     "metadata": {
      "needs_background": "light"
     },
     "output_type": "display_data"
    }
   ],
   "source": [
    "Bls =np.linspace(0,150,150)\n",
    "fig, ax = plt.subplots()\n",
    "# controls = iplt.plot(Bls, P , Rp=Rp, In=In, Pu=Pu, Pb=(0,0.1), Fw=Fw, Sk=(0,0.6))\n",
    "plt.plot(P(Bls, Rp, In, Pu, 0.04, Pw, Sk), label = 'No Robots')\n",
    "plt.plot(P(Bls, Rp, In, Pu, 0.07, Pw, Sk), label = 'Robots')\n",
    "plt.plot(P(Bls, Rp, In, Pu, 0.16, Pw, Sk), label = 'Robots and 3 recreation buildings')\n",
    "plt.title('Optimal Building level')\n",
    "plt.xlabel('Level')\n",
    "plt.ylabel('Daily Profit')\n",
    "plt.legend()\n",
    "plt.show();"
   ]
  },
  {
   "cell_type": "markdown",
   "id": "designing-vanilla",
   "metadata": {},
   "source": [
    "##### Just another simulation"
   ]
  },
  {
   "cell_type": "code",
   "execution_count": 14,
   "id": "environmental-course",
   "metadata": {},
   "outputs": [
    {
     "name": "stdout",
     "output_type": "stream",
     "text": [
      "Optimal Building Level: 128.65652410733372\n",
      "Profit at optimal building level: 983197.1415970295\n",
      "Building costs of optimal building level: 61457125.34791775\n"
     ]
    }
   ],
   "source": [
    "# Multi-step Building optimization \n",
    "\n",
    "Rp = 820000 # Of the final product\n",
    "In = 627989\n",
    "Pw = 96960 \n",
    "\n",
    "Pu = 0.0307 * 0.21 # alpha of the end product * Pu of the end product\n",
    "\n",
    "Pb = 0.04 # No robots\n",
    "Sk = 0.3\n",
    "\n",
    "slots = 13\n",
    "UnitaryBuildingCost = 105000\n",
    "\n",
    "print(\"Optimal Building Level: {}\".format(Num_Bl(Rp, In, Pu, Pb, Pw, Sk)))\n",
    "print(\"Profit at optimal building level: {}\".format(P_star(Rp, In, Pu, Pb, Pw, Sk)))\n",
    "print(\"Building costs of optimal building level: {}\".format(OptimalBuildingCosts(An_Bl(Rp, In, Pu, Pb, Pw, Sk), slots, UnitaryBuildingCost)))"
   ]
  },
  {
   "cell_type": "code",
   "execution_count": 16,
   "id": "democratic-minutes",
   "metadata": {},
   "outputs": [
    {
     "name": "stdout",
     "output_type": "stream",
     "text": [
      "Optimal Building Level: 135.8704899910101\n",
      "Profit at optimal building level: 1065803.1676090965\n",
      "Building costs of optimal building level: 68784967.59157875\n"
     ]
    }
   ],
   "source": [
    "Pb = 0.07 # Robots\n",
    "print(\"Optimal Building Level: {}\".format(Num_Bl(Rp, In, Pu, Pb, Pw, Sk)))\n",
    "print(\"Profit at optimal building level: {}\".format(P_star(Rp, In, Pu, Pb, Pw, Sk)))\n",
    "print(\"Building costs of optimal building level: {}\".format(OptimalBuildingCosts(An_Bl(Rp, In, Pu, Pb, Pw, Sk), slots, UnitaryBuildingCost)))"
   ]
  },
  {
   "cell_type": "code",
   "execution_count": 17,
   "id": "civil-dress",
   "metadata": {},
   "outputs": [
    {
     "data": {
      "image/png": "[encoded data removed]",
      "text/plain": [
       "<Figure size 432x288 with 1 Axes>"
      ]
     },
     "metadata": {
      "needs_background": "light"
     },
     "output_type": "display_data"
    }
   ],
   "source": [
    "Bls =np.linspace(0,120,120)\n",
    "fig, ax = plt.subplots()\n",
    "# controls = iplt.plot(Bls, P , Rp=Rp, In=In, Pu=Pu, Pb=(0,0.1), Fw=Fw, Sk=(0,0.6))\n",
    "plt.plot(P(Bls, Rp, In, Pu, 0.04, Pw, Sk), label = 'No Robots')\n",
    "plt.plot(P(Bls, Rp, In, Pu, 0.07, Pw, Sk), label = 'Robots')\n",
    "plt.title('Optimal Building level')\n",
    "plt.xlabel('Level')\n",
    "plt.ylabel('Daily Profit')\n",
    "plt.legend()\n",
    "plt.show();"
   ]
  },
  {
   "cell_type": "markdown",
   "id": "consistent-stuff",
   "metadata": {},
   "source": [
    "Comparing the two previous graphs. One when selling at 800k (assuming q4) and one when selling at 820k (assuming q5),  there's a big shift of the curve. so this product is too sensitive to the selling price and the use of robots. "
   ]
  },
  {
   "cell_type": "code",
   "execution_count": 18,
   "id": "fuzzy-dance",
   "metadata": {},
   "outputs": [
    {
     "data": {
      "image/png": "[encoded data removed]",
      "text/plain": [
       "<Figure size 432x288 with 1 Axes>"
      ]
     },
     "metadata": {
      "needs_background": "light"
     },
     "output_type": "display_data"
    }
   ],
   "source": [
    "Bls =np.linspace(0,120,120)\n",
    "fig, ax = plt.subplots()\n",
    "# controls = iplt.plot(Bls, P , Rp=Rp, In=In, Pu=Pu, Pb=(0,0.1), Fw=Fw, Sk=(0,0.6))\n",
    "plt.plot(P(Bls, Rp, In, Pu, 0.04, Pw, Sk), label = 'No Robots')\n",
    "plt.plot(P(Bls, Rp, In, Pu, 0.07, Pw, Sk), label = 'Robots')\n",
    "plt.plot(P(Bls, Rp, In, Pu, 0.16, Pw, Sk), label = 'Robots and 3 recreation buildings')\n",
    "plt.title('Optimal Building level')\n",
    "plt.xlabel('Level')\n",
    "plt.ylabel('Daily Profit')\n",
    "plt.legend()\n",
    "plt.show();"
   ]
  }
 ],
 "metadata": {
  "kernelspec": {
   "display_name": "Python 3",
   "language": "python",
   "name": "python3"
  },
  "language_info": {
   "codemirror_mode": {
    "name": "ipython",
    "version": 3
   },
   "file_extension": ".py",
   "mimetype": "text/x-python",
   "name": "python",
   "nbconvert_exporter": "python",
   "pygments_lexer": "ipython3",
   "version": "3.8.3"
  }
 },
 "nbformat": 4,
 "nbformat_minor": 5
}
