{
 "cells": [
  {
   "cell_type": "markdown",
   "id": "geographic-publication",
   "metadata": {},
   "source": [
    "## Optimal building level\n",
    "\n",
    "Through this notebook we will look for the optimal building level according to our assumptions.\n",
    "\n",
    "It may be required to get some information as: \n",
    "\n",
    "- Cumulative building levels $Bl$ : Sum of levels of each building in the game\n",
    "- Retail price $Rp$ : price at which the product you're about to produce will be sold at \n",
    "- Total Inputs price$In$ : sum of the units*prices required to produce the product\n",
    "- Factory wages$Fw$ : The cost of running the factory per hour, per level (No admin overhead assumed yet) \n",
    "- Produced units$Pu$ : Amount of units produced in one hour in a lvl1 building. \n",
    "- Productivity bonus$Pb$ : '%' of extra production (it could have been gotten by stars, parks and recreation buildings, or robots) \n",
    "- Executives skill bonus$Sk$ : Cumulative skill of the executives $Sk = COO + \\frac{CMO + CFO + CTO}{4}$"
   ]
  },
  {
   "cell_type": "markdown",
   "id": "after-guarantee",
   "metadata": {},
   "source": [
    "The expected profit $P$ is given by the function: \n",
    "\n",
    "$$ P = \\big{(} Rp - In - \\frac{Bl (1-Sk) Fw}{170 Pu (1 + Pb)} \\big{)} Bl $$"
   ]
  },
  {
   "cell_type": "markdown",
   "id": "dangerous-safety",
   "metadata": {},
   "source": [
    "The 'optimal' building level is given when:\n",
    "\n",
    "$$ \\frac{\\partial P}{\\partial Bl} = 0$$"
   ]
  },
  {
   "cell_type": "markdown",
   "id": "bigger-basis",
   "metadata": {},
   "source": [
    "Solving: \n",
    "\n",
    "$$ Bl^{*} = \\big{(} \\frac{(Rp - In) Pu (1 + Pb)}{Fw} - 1 \\big{)} \\frac{170}{2 (1 - Sk)}  $$"
   ]
  },
  {
   "cell_type": "markdown",
   "id": "coral-philadelphia",
   "metadata": {},
   "source": [
    "### Numerical approximations\n",
    "\n",
    "For this exercise we are assuming the production of rocket engines.\n",
    "\n",
    "- $Pu = 0.28$\n",
    "- $Fw = 620$\n",
    "- $Rp = 11500$\n",
    "- $In = 7500$\n",
    "- $Pb = 0.04$ or $0.07$ with robots\n",
    "- $Sk = ?$\n",
    "- $Bl = ?$ \n",
    "\n",
    "So we are playing with two main variables: \n",
    "Executives Skill level and Building level. "
   ]
  },
  {
   "cell_type": "code",
   "execution_count": 148,
   "id": "tender-checkout",
   "metadata": {},
   "outputs": [],
   "source": [
    "%matplotlib ipympl\n",
    "import matplotlib.pyplot as plt\n",
    "import numpy as np\n",
    "\n",
    "from mpl_interactions import ipyplot as iplt\n",
    "\n",
    "def Bl(Rp, In, Pu, Pb, Fw, Sk):\n",
    "    # Building level\n",
    "    return ((Rp - In)*Pu*(1+Pb)/Fw -1)*170/(2*(1-Sk))\n",
    "\n",
    "def P(Bl, Rp, In, Pu, Pb, Fw, Sk):\n",
    "    # Profit\n",
    "    W = Fw/(Pu*(1+Pb))\n",
    "    P = (Rp - In - (Bl/170*(1-Sk) + 1)*W) * Bl\n",
    "    return  P * 24 * Pu # To find daily profit\n",
    "\n",
    "def P_star(*args):\n",
    "    # Optimal Profit\n",
    "    # P(Bl(Rp, In, Pu, Pb, Fw, Sk),Rp, In, Pu, Pb, Fw, Sk) equivalent:\n",
    "    return (P(Bl(*args), *args))"
   ]
  },
  {
   "cell_type": "code",
   "execution_count": 157,
   "id": "lovely-steel",
   "metadata": {},
   "outputs": [
    {
     "data": {
      "text/plain": [
       "(100.99723502304148, 600949.0864232542)"
      ]
     },
     "execution_count": 157,
     "metadata": {},
     "output_type": "execute_result"
    }
   ],
   "source": [
    "# Optimal solution with no robots: \n",
    "    \n",
    "Pu = 0.28\n",
    "Pb = 0.04 # No robots\n",
    "Fw = 620\n",
    "Rp = 11500\n",
    "In = 7600\n",
    "Sk = 0.3\n",
    "\n",
    "Bl(Rp, In, Pu, Pb, Fw, Sk), P_star(Rp, In, Pu, Pb, Fw, Sk)"
   ]
  },
  {
   "cell_type": "code",
   "execution_count": 158,
   "id": "certain-kinase",
   "metadata": {},
   "outputs": [
    {
     "data": {
      "text/plain": [
       "(107.41336405529954, 660670.4902708993)"
      ]
     },
     "execution_count": 158,
     "metadata": {},
     "output_type": "execute_result"
    }
   ],
   "source": [
    "# Optimal solution with robots: \n",
    "    \n",
    "Pu = 0.28\n",
    "Pb = 0.07 # No robots\n",
    "Fw = 620\n",
    "Rp = 11500\n",
    "In = 7600\n",
    "Sk = 0.3\n",
    "\n",
    "Bl(Rp, In, Pu, Pb, Fw, Sk), P_star(Rp, In, Pu, Pb, Fw, Sk)"
   ]
  },
  {
   "cell_type": "markdown",
   "id": "occupied-patch",
   "metadata": {},
   "source": [
    "So having robots increases the building levels by a 7%, and the income by a 10%.\n",
    "Even though, installing robots requires a big investment. "
   ]
  },
  {
   "cell_type": "code",
   "execution_count": 142,
   "id": "noticed-student",
   "metadata": {},
   "outputs": [],
   "source": [
    "# Doesn't work yet\n",
    "\n",
    "# Bls =np.linspace(0,200)\n",
    "# fig, ax = plt.subplots()\n",
    "# controls = iplt.plot(Bls, P , Rp=Rp, In=In, Pu=Pu, Pb=Pb, Fw=Fw, Sk=(0,1))\n"
   ]
  }
 ],
 "metadata": {
  "kernelspec": {
   "display_name": "Python 3",
   "language": "python",
   "name": "python3"
  },
  "language_info": {
   "codemirror_mode": {
    "name": "ipython",
    "version": 3
   },
   "file_extension": ".py",
   "mimetype": "text/x-python",
   "name": "python",
   "nbconvert_exporter": "python",
   "pygments_lexer": "ipython3",
   "version": "3.8.3"
  }
 },
 "nbformat": 4,
 "nbformat_minor": 5
}
