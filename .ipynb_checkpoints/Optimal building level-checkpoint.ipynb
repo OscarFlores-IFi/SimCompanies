{
 "cells": [
  {
   "cell_type": "markdown",
   "id": "controlled-hotel",
   "metadata": {},
   "source": [
    "## Optimal building level\n",
    "\n",
    "Through this notebook we will look for the optimal building level according to our assumptions.\n",
    "\n",
    "It may be required to get some information as: \n",
    "\n",
    "- Cumulative building levels $Bl$ : Sum of levels of each building in the game\n",
    "- Retail price $Rp$ : price at which the product you're about to produce will be sold at \n",
    "- Total Inputs price$In$ : sum of the units*prices required to produce the product\n",
    "- Factory wages$Fw$ : The cost of running the factory per hour, per level (No admin overhead assumed yet) \n",
    "- Produced units$Pu$ : Amount of units produced in one hour in a lvl1 building. \n",
    "- Productivity bonus$Pb$ : '%' of extra production (it could have been gotten by stars, parks and recreation buildings, or robots) \n",
    "- Executives skill bonus$Sk$ : Cumulative skill of the executives $Sk = COO + \\frac{CMO + CFO + CTO}{4}$"
   ]
  },
  {
   "cell_type": "markdown",
   "id": "thermal-coupon",
   "metadata": {},
   "source": [
    "The expected profit $P$ is given by the function: \n",
    "\n",
    "$$ P = \\big{(} Rp - In - \\frac{Bl (1-Sk) Fw}{170 Pu (1 + Pb)} \\big{)} Bl $$\n",
    "\n",
    "Note:\n",
    "\n",
    "The daily profit could be gotten by multiplying $24* P * Pu$"
   ]
  },
  {
   "cell_type": "markdown",
   "id": "controversial-number",
   "metadata": {},
   "source": [
    "The 'optimal' building level is given when:\n",
    "\n",
    "$$ \\frac{\\partial P}{\\partial Bl} = 0$$"
   ]
  },
  {
   "cell_type": "markdown",
   "id": "younger-scope",
   "metadata": {},
   "source": [
    "Solving: \n",
    "\n",
    "$$ Bl^{*} = \\big{(} \\frac{(Rp - In) Pu (1 + Pb)}{Fw} - 1 \\big{)} \\frac{170}{2 (1 - Sk)}  $$"
   ]
  },
  {
   "cell_type": "markdown",
   "id": "mobile-melissa",
   "metadata": {},
   "source": [
    "### Building costs"
   ]
  },
  {
   "cell_type": "markdown",
   "id": "registered-viewer",
   "metadata": {},
   "source": [
    "Additional to the Optimal profit, there is another variable; the cost of upgrading at a certain building level.\n",
    "\n",
    "The costs for upgrading a building ($Cb$) are given the following way:\n",
    "  \n",
    "if $C$ is the cost of upgrading a lvl 1 building, then every upgrade can be expressed as:\n",
    "\n",
    "- Lvl 1: C\n",
    "- Lvl 2: C\n",
    "- Lvl 3: 2C\n",
    "- Lvl 4: 3C\n",
    "- Lvl 5: 4C\n",
    "- ... \n",
    "\n",
    "Then the building cost of 1 slot until level \"$Lvl$\" could be expressed as $1+\\frac{1+(Lvl-1)}{2}(Lvl-1))$\n",
    "\n",
    "Since we pretend to build the total amount of buildings evenly (more efficient), then the total Building Costs $Tc$ can be aproximated as a function of the total building levels $Bl$ (as defined previously), the building slots $Sl$, and the unitary costs of upgrading $C$ (since this formula requires discrete numbers it is only exact when the ratio between $Bl$ and $Sl$ is an integer, otherwise it is just an approximation):\n",
    "\n",
    "$Tc = \\big{[}1+\\frac{1+(\\frac{Bl}{Sl}-1)}{2}(\\frac{Bl}{Sl}-1)) \\big{]} C Sl $\n"
   ]
  },
  {
   "cell_type": "markdown",
   "id": "obvious-correction",
   "metadata": {},
   "source": [
    "### Numerical approximations\n",
    "\n",
    "For this exercise we are assuming the production of rocket engines. and therefore comparing between the use of robots or the absense of them. \n",
    "\n",
    "- $Pu = 0.28$\n",
    "- $Fw = 620$\n",
    "- $Rp = 11500$\n",
    "- $In = 7500$\n",
    "- $Pb = 0.04$ or $0.07$ with robots\n",
    "- $Sk = 0.30$\n",
    "- $Bl = ?$ \n",
    "\n",
    "So we are playing with the building level as the main variable "
   ]
  },
  {
   "cell_type": "code",
   "execution_count": 42,
   "id": "ahead-institution",
   "metadata": {},
   "outputs": [],
   "source": [
    "%matplotlib ipympl\n",
    "import matplotlib.pyplot as plt\n",
    "import numpy as np\n",
    "\n",
    "from mpl_interactions import ipyplot as iplt\n",
    "\n",
    "def Bl(Rp, In, Pu, Pb, Fw, Sk):\n",
    "    # Building level\n",
    "    return ((Rp - In)*Pu*(1+Pb)/Fw -1)*170/(2*(1-Sk))\n",
    "\n",
    "def P(Bl, Rp, In, Pu, Pb, Fw, Sk):\n",
    "    # Profit\n",
    "    W = Fw/(Pu*(1+Pb))\n",
    "    P = (Rp - In - (Bl/170*(1-Sk) + 1)*W) * Bl\n",
    "    return  P * 24 * Pu # To find daily profit\n",
    "\n",
    "def P_star(*args):\n",
    "    # Optimal Profit\n",
    "    # P(Bl(Rp, In, Pu, Pb, Fw, Sk),Rp, In, Pu, Pb, Fw, Sk) equivalent:\n",
    "    return (P(Bl(*args), *args))\n",
    "\n",
    "def BuildingCost(Bl, Sl, C):\n",
    "    #Building costs\n",
    "    sing = lambda x: 1+((1+(x-1))/2*(x-1)) #For one simple building at lvl; x\n",
    "    return sing(Bl/Sl)*C*Sl #For many buildings at lvl; Bl/Sl\n",
    "\n",
    "def OptimalBuildingCosts(Bl_star, *args):\n",
    "    return BuildingCost(Bl_star, *args)"
   ]
  },
  {
   "cell_type": "code",
   "execution_count": 43,
   "id": "popular-success",
   "metadata": {},
   "outputs": [
    {
     "name": "stdout",
     "output_type": "stream",
     "text": [
      "Optimal Building Level: 100.99723502304148\n",
      "Profit at optimal building level: 600949.0864232542\n",
      "Building costs of optimal building level: 37256735.76288437\n"
     ]
    }
   ],
   "source": [
    "# Optimal solution with no robots: \n",
    "    \n",
    "Pu = 0.28\n",
    "Pb = 0.04 # No robots\n",
    "Fw = 620\n",
    "Rp = 11500\n",
    "In = 7600\n",
    "Sk = 0.3\n",
    "\n",
    "slots = 13\n",
    "UnitaryBuildingCost = 105000\n",
    "\n",
    "print(\"Optimal Building Level: {}\".format(Bl(Rp, In, Pu, Pb, Fw, Sk)))\n",
    "print(\"Profit at optimal building level: {}\".format(P_star(Rp, In, Pu, Pb, Fw, Sk)))\n",
    "print(\"Building costs of optimal building level: {}\".format(OptimalBuildingCosts(Bl(Rp, In, Pu, Pb, Fw, Sk), slots, UnitaryBuildingCost)))"
   ]
  },
  {
   "cell_type": "code",
   "execution_count": 50,
   "id": "animal-surprise",
   "metadata": {},
   "outputs": [
    {
     "name": "stdout",
     "output_type": "stream",
     "text": [
      "Optimal Building Level: 107.41336405529954\n",
      "Profit at optimal building level: 660670.4902708993\n",
      "Building costs of optimal building level: 42320076.52771266\n"
     ]
    }
   ],
   "source": [
    "# Optimal solution with robots: \n",
    "    \n",
    "Pu = 0.28\n",
    "Pb = 0.07 # Robots\n",
    "Fw = 620\n",
    "Rp = 11500\n",
    "In = 7600\n",
    "Sk = 0.3\n",
    "\n",
    "slots = 13\n",
    "UnitaryBuildingCost = 105000\n",
    "\n",
    "print(\"Optimal Building Level: {}\".format(Bl(Rp, In, Pu, Pb, Fw, Sk)))\n",
    "print(\"Profit at optimal building level: {}\".format(P_star(Rp, In, Pu, Pb, Fw, Sk)))\n",
    "print(\"Building costs of optimal building level: {}\".format(OptimalBuildingCosts(Bl(Rp, In, Pu, Pb, Fw, Sk), slots, UnitaryBuildingCost)))"
   ]
  },
  {
   "cell_type": "markdown",
   "id": "indonesian-imagination",
   "metadata": {},
   "source": [
    "So having robots increases the building levels by a 7%, and the income by a 10%.\n",
    "Even though, installing robots requires a big investment; The price of the robots + the building upgrades:\n",
    "\n",
    "$ 186*930*12 + 5M = 7.3M $\n",
    "\n",
    "So we should be investing 7.3M  more to get an increase of 60k daily."
   ]
  },
  {
   "cell_type": "code",
   "execution_count": 51,
   "id": "curious-austin",
   "metadata": {},
   "outputs": [
    {
     "data": {
      "application/vnd.jupyter.widget-view+json": {
       "model_id": "84f196089a734c259a5f86fbfd65b0e2",
       "version_major": 2,
       "version_minor": 0
      },
      "text/plain": [
       "Canvas(toolbar=Toolbar(toolitems=[('Home', 'Reset original view', 'home', 'home'), ('Back', 'Back to previous …"
      ]
     },
     "metadata": {},
     "output_type": "display_data"
    }
   ],
   "source": [
    "# Doesn't work yet\n",
    "\n",
    "Bls =np.linspace(0,200,200)\n",
    "fig, ax = plt.subplots()\n",
    "# controls = iplt.plot(Bls, P , Rp=Rp, In=In, Pu=Pu, Pb=(0,0.1), Fw=Fw, Sk=(0,0.6))\n",
    "plt.plot(P(Bls, Rp, In, Pu, 0.04, Fw, Sk), label = 'No Robots')\n",
    "plt.plot(P(Bls, Rp, In, Pu, 0.07, Fw, Sk), label = 'Robots')\n",
    "plt.title('Optimal Building level')\n",
    "plt.xlabel('Level')\n",
    "plt.ylabel('Daily Profit')\n",
    "plt.legend()\n",
    "plt.show();"
   ]
  },
  {
   "cell_type": "code",
   "execution_count": null,
   "id": "loving-interest",
   "metadata": {},
   "outputs": [],
   "source": []
  }
 ],
 "metadata": {
  "kernelspec": {
   "display_name": "Python 3",
   "language": "python",
   "name": "python3"
  },
  "language_info": {
   "codemirror_mode": {
    "name": "ipython",
    "version": 3
   },
   "file_extension": ".py",
   "mimetype": "text/x-python",
   "name": "python",
   "nbconvert_exporter": "python",
   "pygments_lexer": "ipython3",
   "version": "3.8.3"
  }
 },
 "nbformat": 4,
 "nbformat_minor": 5
}
