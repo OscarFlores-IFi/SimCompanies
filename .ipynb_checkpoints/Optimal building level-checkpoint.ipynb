{
 "cells": [
  {
   "cell_type": "markdown",
   "id": "controlled-hotel",
   "metadata": {},
   "source": [
    "## Optimal building level\n",
    "\n",
    "Through this notebook we will look for the optimal building level according to our assumptions.\n",
    "\n",
    "It may be required to get some information as: \n",
    "\n",
    "- Cumulative building levels $Bl$ : Sum of levels of each building in the game\n",
    "- Retail price $Rp$ : price at which the product you're about to produce will be sold at \n",
    "- Total Inputs price $In$ : sum of the units*prices required to produce the product\n",
    "- Factory wages $Fw$ : The cost of running the factory per hour, per level (No admin overhead assumed yet). It used to be given by the game, today we have to calculate it by ourselves as $Fw = Pw * Pu$ (each of the variables are described next)\n",
    "- Produced units $Pu$ : Amount of units produced in one hour in a lvl1 building. \n",
    "- Product wages $Pw$ : Even though the actual model requires the Factory Wages, we can skip the manual calculation, so we express the previous formula $Fw = Pw * Pu$ in our code, requiring the variable $Pw$\n",
    "- Productivity bonus $Pb$ : '%' of extra production (it could have been gotten by stars, parks and recreation buildings, or robots) \n",
    "- Executives skill bonus $Sk$ : Cumulative skill of the executives $Sk = COO + \\frac{CMO + CFO + CTO}{4}$"
   ]
  },
  {
   "cell_type": "markdown",
   "id": "thermal-coupon",
   "metadata": {},
   "source": [
    "The expected profit $P$ is given by the function: \n",
    "\n",
    "$$ P = \\big{(} Rp - In - \\frac{Bl (1-Sk) Fw}{170 Pu (1 + Pb)} \\big{)} Bl $$\n",
    "\n",
    "which also equals: \n",
    "$$ P = \\big{(} Rp - In - \\frac{Bl (1-Sk) Pw}{170 (1 + Pb)} \\big{)} Bl $$\n",
    "\n",
    "Note:\n",
    "\n",
    "The daily profit could be gotten by multiplying the profit times $24* Pu$"
   ]
  },
  {
   "cell_type": "markdown",
   "id": "controversial-number",
   "metadata": {},
   "source": [
    "The 'optimal' building level is given when:\n",
    "\n",
    "$$ \\frac{\\partial P}{\\partial Bl} = 0$$"
   ]
  },
  {
   "cell_type": "markdown",
   "id": "younger-scope",
   "metadata": {},
   "source": [
    "Solving: \n",
    "\n",
    "$$ Bl^{*} = \\big{(} \\frac{(Rp - In) Pu (1 + Pb)}{Fw} \\big{)} \\frac{170}{2 (1 - Sk)}  $$\n",
    "\n",
    "or:\n",
    "\n",
    "$$ Bl^{*} = \\big{(} \\frac{(Rp - In) (1 + Pb) 170}{2 (1 - Sk) Pw} \\big{)} $$\n"
   ]
  },
  {
   "cell_type": "markdown",
   "id": "capital-avatar",
   "metadata": {},
   "source": [
    "As we can see, we can express both formulas without the need of getting the actual value of Fw, so it may not be asked for, nor calculated. "
   ]
  },
  {
   "cell_type": "markdown",
   "id": "norman-convention",
   "metadata": {},
   "source": [
    "### Building costs"
   ]
  },
  {
   "cell_type": "markdown",
   "id": "registered-viewer",
   "metadata": {},
   "source": [
    "Additional to the Optimal profit, there is another variable; the cost of upgrading at a certain building level.\n",
    "\n",
    "The costs for upgrading a building ($Cb$) are given the following way:\n",
    "  \n",
    "if $C$ is the cost of upgrading a lvl 1 building, then every upgrade can be expressed as:\n",
    "\n",
    "- Lvl 1: C\n",
    "- Lvl 2: C\n",
    "- Lvl 3: 2C\n",
    "- Lvl 4: 3C\n",
    "- Lvl 5: 4C\n",
    "- ... \n",
    "\n",
    "Then the building cost of 1 slot until level \"$Lvl$\" could be expressed as $1+\\frac{1+(Lvl-1)}{2}(Lvl-1))$\n",
    "\n",
    "Since we pretend to build the total amount of buildings evenly (more efficient), then the total Building Costs $Tc$ can be aproximated as a function of the total building levels $Bl$ (as defined previously), the building slots $Sl$, and the unitary costs of upgrading $C$ (since this formula requires discrete numbers it is only exact when the ratio between $Bl$ and $Sl$ is an integer, otherwise it is just an approximation):\n",
    "\n",
    "$Tc = \\big{[}1+\\frac{1+(\\frac{Bl}{Sl}-1)}{2}(\\frac{Bl}{Sl}-1)) \\big{]} C Sl $\n"
   ]
  },
  {
   "cell_type": "markdown",
   "id": "obvious-correction",
   "metadata": {},
   "source": [
    "### Numerical approximations\n",
    "\n",
    "For this exercise we are assuming the production of rocket engines. and therefore comparing between the use of robots or the absense of them. \n",
    "\n",
    "- $Pu = 0.29$\n",
    "- $Pw = 2050$\n",
    "- $Rp = 10900$\n",
    "- $In = 9950 - 2650 = 7300$\n",
    "- $Pb = 0.04$ or $0.07$ with robots\n",
    "- $Sk = 0.30$\n",
    "- $Bl = ?$ \n",
    "\n",
    "So we are playing with the building level as the main variable "
   ]
  },
  {
   "cell_type": "code",
   "execution_count": 45,
   "id": "ahead-institution",
   "metadata": {},
   "outputs": [],
   "source": [
    "# %matplotlib ipympl\n",
    "\n",
    "import matplotlib.pyplot as plt\n",
    "import numpy as np\n",
    "\n",
    "from mpl_interactions import ipyplot as iplt\n",
    "\n",
    "def Bl(Rp, In, Pb, Pw, Sk):\n",
    "    # Building level\n",
    "    return (Rp-In)*170*(1+Pb)/2/(1-Sk)/Pw\n",
    "\n",
    "def P(Bl, Rp, In, Pu, Pb, Pw, Sk):\n",
    "    # Profit\n",
    "    W = Bl*(1-Sk)*Pw/(170*(1+Pb))\n",
    "    P = (Rp - In - W) * Bl\n",
    "    return  P * 24 * Pu # To find daily profit\n",
    "\n",
    "def P_star(Rp, In, Pu, Pb, Pw, Sk):\n",
    "    # Optimal Profit\n",
    "    # P(Bl(Rp, In, Pu, Pb, Fw, Sk),Rp, In, Pu, Pb, Fw, Sk) equivalent:\n",
    "    return (P(Bl(Rp, In, Pb, Pw, Sk), Rp, In, Pu, Pb, Pw, Sk))\n",
    "\n",
    "def BuildingCost(Bl, Sl, C):\n",
    "    #Building costs\n",
    "    sing = lambda x: 1+((1+(x-1))/2*(x-1)) #For one simple building at lvl; x\n",
    "    return sing(Bl/Sl)*C*Sl #For many buildings at lvl; Bl/Sl\n",
    "\n",
    "def OptimalBuildingCosts(Bl_star, *args):\n",
    "    return BuildingCost(Bl_star, *args)"
   ]
  },
  {
   "cell_type": "code",
   "execution_count": 47,
   "id": "popular-success",
   "metadata": {},
   "outputs": [
    {
     "name": "stdout",
     "output_type": "stream",
     "text": [
      "Optimal Building Level: 221.7700348432056\n",
      "Profit at optimal building level: 2778334.9965156796\n",
      "Building costs of optimal building level: 188341479.9864027\n"
     ]
    }
   ],
   "source": [
    "# Optimal solution with no robots: \n",
    "\n",
    "Pu = 0.29\n",
    "Pb = 0.04 # No robots\n",
    "Pw = 2050\n",
    "Rp = 10900\n",
    "In = 7300\n",
    "Sk = 0.3\n",
    "\n",
    "# slots = 13\n",
    "# UnitaryBuildingCost = 105000\n",
    "\n",
    "print(\"Optimal Building Level: {}\".format(Bl(Rp, In, Pb, Pw, Sk)))\n",
    "print(\"Profit at optimal building level: {}\".format(P_star(Rp, In, Pu, Pb, Pw, Sk)))\n",
    "print(\"Building costs of optimal building level: {}\".format(OptimalBuildingCosts(Bl(Rp, In, Pb, Pw, Sk), slots, UnitaryBuildingCost)))"
   ]
  },
  {
   "cell_type": "code",
   "execution_count": 48,
   "id": "animal-surprise",
   "metadata": {},
   "outputs": [
    {
     "name": "stdout",
     "output_type": "stream",
     "text": [
      "Optimal Building Level: 228.16724738675958\n",
      "Profit at optimal building level: 2858479.275261324\n",
      "Building costs of optimal building level: 199629709.585477\n"
     ]
    }
   ],
   "source": [
    "# Optimal solution with no robots: \n",
    "\n",
    "Pu = 0.29\n",
    "Pb = 0.07 # Robots\n",
    "Pw = 2050\n",
    "Rp = 10900\n",
    "In = 7300\n",
    "Sk = 0.3\n",
    "\n",
    "slots = 13\n",
    "UnitaryBuildingCost = 105000\n",
    "\n",
    "print(\"Optimal Building Level: {}\".format(Bl(Rp, In, Pb, Pw, Sk)))\n",
    "print(\"Profit at optimal building level: {}\".format(P_star(Rp, In, Pu, Pb, Pw, Sk)))\n",
    "print(\"Building costs of optimal building level: {}\".format(OptimalBuildingCosts(Bl(Rp, In, Pb, Pw, Sk), slots, UnitaryBuildingCost)))"
   ]
  },
  {
   "cell_type": "markdown",
   "id": "indonesian-imagination",
   "metadata": {},
   "source": [
    "So having robots increases the building levels by a 7%, and the income by a 10%.\n",
    "Even though, installing robots requires a big investment; The price of the robots + the building upgrades"
   ]
  },
  {
   "cell_type": "code",
   "execution_count": 49,
   "id": "great-insulin",
   "metadata": {},
   "outputs": [
    {
     "data": {
      "image/png": "[encoded data removed]",
      "text/plain": [
       "<Figure size 432x288 with 1 Axes>"
      ]
     },
     "metadata": {
      "needs_background": "light"
     },
     "output_type": "display_data"
    }
   ],
   "source": [
    "Bls =np.linspace(0,120,120)\n",
    "fig, ax = plt.subplots()\n",
    "# controls = iplt.plot(Bls, P , Rp=Rp, In=In, Pu=Pu, Pb=(0,0.1), Fw=Fw, Sk=(0,0.6))\n",
    "plt.plot(P(Bls, Rp, In, Pu, 0.04, Pw, Sk), label = 'No Robots')\n",
    "plt.plot(P(Bls, Rp, In, Pu, 0.07, Pw, Sk), label = 'Robots')\n",
    "plt.title('Optimal Building level')\n",
    "plt.xlabel('Level')\n",
    "plt.ylabel('Daily Profit')\n",
    "plt.legend()\n",
    "plt.show();"
   ]
  },
  {
   "cell_type": "markdown",
   "id": "arabic-biotechnology",
   "metadata": {},
   "source": [
    "### Multi-Step process\n",
    "\n",
    "For the multi-step scenario it is used the same formulas with a slight modification. This modification though, requires a lot of attention for the manual entry of the data and the definition of it.\n",
    "\n"
   ]
  },
  {
   "cell_type": "markdown",
   "id": "suspended-click",
   "metadata": {},
   "source": [
    "The process starts in a similar way as the previous case scenario. This time, for simplicity, we are representing the Profit as 3 different parts: \n",
    "\n",
    "- Retail price $Rp$ (at which we are selling our product)\n",
    "- Total Input Resources $In_{T}$ (As the not produced resources for any of the resources produced in the full process)\n",
    "- Total Wages $W_{T}$ (As the total amount paid in wages in the full process) \n",
    "\n",
    "Next we have the Building level $Bl$, but this time we will need to add an additional multiplier parameter $\\alpha$ in representation of the building units required to produced a single unit of the final product."
   ]
  },
  {
   "cell_type": "markdown",
   "id": "latest-nickel",
   "metadata": {},
   "source": [
    "So the profit may be defined as:\n",
    "\n",
    "$$ P = [Rp - In_T - W_T] Bl$$\n",
    "\n",
    "Where the Total Wages are defined as: \n",
    "\n",
    "$$W_T = \\sum_{i=1}^{n} W_i = \\frac{\\alpha Bl (1-Sk)}{170 (1+Pb)} \\sum_{i=1}^{n} Pw_i $$\n",
    "\n",
    "Lets say $\\sum_{i=1}^{n} Pw_i$ is equivalent to the 'Total product wages', and let it be equal to $Pw_T$\n",
    "\n",
    "Then we can express $W_T$ as: \n",
    "\n",
    "$$W_T = \\frac{\\alpha Bl (1-Sk) Pw_T}{170 (1+Pb)} $$\n",
    "\n",
    "Evaluating the Total wages expression into our profit\n",
    "\n",
    "$$ P = [Rp - In_T - \\frac{\\alpha Bl (1-Sk) Pw_T}{170 (1+Pb)}] Bl$$\n",
    "\n",
    "Note: In order to get the daily profit we must multiply the Profit $P$ by $24Pu$ where $Pu$ is the amount of units produced of our finished product and not the intermediate ones. "
   ]
  },
  {
   "cell_type": "markdown",
   "id": "thermal-browser",
   "metadata": {},
   "source": [
    "To get the Optimal Profit with respect to the Building Level we must derivate the profit and set it equal to cero: \n",
    "\n",
    "$$ \\frac{\\partial P}{\\partial Bl} = 0$$\n",
    "\n",
    "Solving: \n",
    "\n",
    "$$ Bl^{*} = \\big{(} \\frac{(Rp - In_T) (1 + Pb) 170}{2 \\alpha (1 - Sk) Pw_T} \\big{)} $$\n"
   ]
  },
  {
   "cell_type": "markdown",
   "id": "fabulous-infrastructure",
   "metadata": {},
   "source": [
    "So the only difference between the Building level of a multi-step process is apparently the alpha and the small $T$ in; $In_T$ and $Pw_T$"
   ]
  },
  {
   "cell_type": "code",
   "execution_count": null,
   "id": "cutting-production",
   "metadata": {},
   "outputs": [],
   "source": []
  },
  {
   "cell_type": "code",
   "execution_count": null,
   "id": "closed-listening",
   "metadata": {},
   "outputs": [],
   "source": []
  }
 ],
 "metadata": {
  "kernelspec": {
   "display_name": "Python 3",
   "language": "python",
   "name": "python3"
  },
  "language_info": {
   "codemirror_mode": {
    "name": "ipython",
    "version": 3
   },
   "file_extension": ".py",
   "mimetype": "text/x-python",
   "name": "python",
   "nbconvert_exporter": "python",
   "pygments_lexer": "ipython3",
   "version": "3.8.3"
  }
 },
 "nbformat": 4,
 "nbformat_minor": 5
}
