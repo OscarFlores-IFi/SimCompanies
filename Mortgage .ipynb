{
 "cells": [
  {
   "cell_type": "markdown",
   "id": "persistent-photograph",
   "metadata": {},
   "source": [
    "Through this paper we're going to analyze the profitability of getting morgage, renting, and investing in other sources in order to find out the best expected outcome in long term. \n",
    "\n",
    "- First, we need information about the expected price of the house we are dealing with. Using information of the inflation in the service section of the IPC of the INEGI datasource: https://www.inegi.org.mx/programas/inpc/2018/#Datos_abiertos or https://www.inegi.org.mx/app/indicesdeprecios/Estructura.aspx?idEstructura=112001300030&T=%C3%8Dndices%20de%20Precios%20al%20Consumidor&ST=Inflaci%C3%B3n%20Mensual). Also we need to calculate the expected growth of our money in other safe options (consider Cetes): http://anterior.banxico.org.mx/SieInternet/\n",
    "\n",
    "- Second, we need to calculate the rent price (we will assume it as 0.4% of its value monthly)\n",
    "\n",
    "- Third, we will run a simulation with an interest rate and see what is our best option.\n",
    "\n",
    "\n",
    "Consider that we have different options: \n",
    "- 1- Do not buy a house and rent. Extra money will be invested in Cetes\n",
    "- 2- Buy a house at interest rate x. and save the rent (.4% of the value of the house, it will increase according to the inflation history)\n"
   ]
  },
  {
   "cell_type": "markdown",
   "id": "vulnerable-cover",
   "metadata": {},
   "source": [
    "In percentual values: \n",
    "\n",
    "Cetes $~N(5.77,1.91)$\n",
    "\n",
    "House inflation $~N(3.17,0.6)$"
   ]
  },
  {
   "cell_type": "code",
   "execution_count": 19,
   "id": "governmental-aquatic",
   "metadata": {},
   "outputs": [],
   "source": [
    "import numpy as np\n",
    "import pandas as pd\n",
    "import matplotlib.pyplot as plt\n",
    "\n",
    "# Home price:\n",
    "H = 1000000\n",
    "# Rent price: \n",
    "R = 0.004 # Depends on the home price\n",
    "# interest rate for the mortgage:\n",
    "i = 0.079\n",
    "# Number of months until the credit has finished \n",
    "n = 12*20\n",
    "# Down payment as a fraction of the total H price\n",
    "D = 0.2*H\n",
    "\n",
    "\n"
   ]
  },
  {
   "cell_type": "code",
   "execution_count": 20,
   "id": "official-camcorder",
   "metadata": {},
   "outputs": [
    {
     "data": {
      "text/plain": [
       "[<matplotlib.lines.Line2D at 0x1fbb89b7430>]"
      ]
     },
     "execution_count": 20,
     "metadata": {},
     "output_type": "execute_result"
    },
    {
     "data": {
      "image/png": "[encoded data removed]",
      "text/plain": [
       "<Figure size 432x288 with 1 Axes>"
      ]
     },
     "metadata": {
      "needs_background": "light"
     },
     "output_type": "display_data"
    }
   ],
   "source": [
    "house = H*(1+0.0317/12)**np.arange(n)\n",
    "rents = house*R\n",
    "plt.plot(rents)"
   ]
  },
  {
   "cell_type": "code",
   "execution_count": 23,
   "id": "plastic-arkansas",
   "metadata": {},
   "outputs": [
    {
     "data": {
      "text/plain": [
       "800000.0"
      ]
     },
     "execution_count": 23,
     "metadata": {},
     "output_type": "execute_result"
    }
   ],
   "source": [
    "principal = H - D\n",
    "principal \n"
   ]
  }
 ],
 "metadata": {
  "kernelspec": {
   "display_name": "Python 3",
   "language": "python",
   "name": "python3"
  },
  "language_info": {
   "codemirror_mode": {
    "name": "ipython",
    "version": 3
   },
   "file_extension": ".py",
   "mimetype": "text/x-python",
   "name": "python",
   "nbconvert_exporter": "python",
   "pygments_lexer": "ipython3",
   "version": "3.8.3"
  }
 },
 "nbformat": 4,
 "nbformat_minor": 5
}
